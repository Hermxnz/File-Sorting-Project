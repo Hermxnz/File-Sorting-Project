{
 "cells": [
  {
   "cell_type": "code",
   "execution_count": 15,
   "id": "996b30dd-450d-43d7-9023-58f076bb32be",
   "metadata": {},
   "outputs": [],
   "source": [
    "import os, shutil"
   ]
  },
  {
   "cell_type": "code",
   "execution_count": 156,
   "id": "472d50ee-1454-436c-b4a9-ab37243b8f0a",
   "metadata": {},
   "outputs": [],
   "source": [
    "path = r\"C:/Python/\"\n",
    "file_name = os.listdir(path)"
   ]
  },
  {
   "cell_type": "code",
   "execution_count": 158,
   "id": "839a81ac-1e05-47a8-9f10-f9ddd18b3007",
   "metadata": {},
   "outputs": [],
   "source": [
    "folder_names =['csv files','image files','text files']\n",
    "\n",
    "for loop in range (0,3):\n",
    "    if not os.path.exists(path + folder_names[loop]):\n",
    "        os.makedirs(path + folder_names[loop])\n"
   ]
  },
  {
   "cell_type": "code",
   "execution_count": 164,
   "id": "0fdfef34-5f8e-4635-96be-aad848ae490e",
   "metadata": {},
   "outputs": [
    {
     "name": "stdout",
     "output_type": "stream",
     "text": [
      "Some files could not be moved\n",
      "Some files could not be moved\n",
      "Some files could not be moved\n"
     ]
    }
   ],
   "source": [
    "for file in os.listdir(path): \n",
    "    if \".csv\" in file and not os.path.exists(path + \"csv files/\" + file):\n",
    "        shutil.move(path + file,path + \"csv files/\" + file)\n",
    "    elif \".png\" in file and not os.path.exists(path + \"image files/\" + file):\n",
    "        shutil.move(path + file,path + \"image files/\" + file)\n",
    "    elif \".txt\" in file and not os.path.exists(path + \"text files/\" + file):\n",
    "        shutil.move(path + file,path + \"text files/\" + file)\n",
    "    else: \n",
    "        print(\"Some files could not be moved\")\n",
    "    "
   ]
  },
  {
   "cell_type": "code",
   "execution_count": null,
   "id": "7bac4d87-61c9-4d17-8839-da2d59671dbd",
   "metadata": {},
   "outputs": [],
   "source": []
  }
 ],
 "metadata": {
  "kernelspec": {
   "display_name": "Python 3 (ipykernel)",
   "language": "python",
   "name": "python3"
  },
  "language_info": {
   "codemirror_mode": {
    "name": "ipython",
    "version": 3
   },
   "file_extension": ".py",
   "mimetype": "text/x-python",
   "name": "python",
   "nbconvert_exporter": "python",
   "pygments_lexer": "ipython3",
   "version": "3.11.7"
  }
 },
 "nbformat": 4,
 "nbformat_minor": 5
}
